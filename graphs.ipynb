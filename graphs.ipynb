{
 "cells": [
  {
   "cell_type": "markdown",
   "metadata": {},
   "source": [
    "# Randomized Graph Algorithms\n",
    "Laryn Qi – May 23-25, 2023"
   ]
  },
  {
   "cell_type": "code",
   "execution_count": 1,
   "metadata": {},
   "outputs": [],
   "source": [
    "import random"
   ]
  },
  {
   "cell_type": "code",
   "execution_count": 2,
   "metadata": {},
   "outputs": [],
   "source": [
    "from collections import deque\n",
    "\n",
    "class Stack:\n",
    "\n",
    "    def __init__(self):\n",
    "        self.dq = deque()\n",
    "\n",
    "    def insert(self, x):\n",
    "        self.dq.append(x)\n",
    "\n",
    "    def pop(self):\n",
    "        return self.dq.pop()\n",
    "\n",
    "    def is_empty(self):\n",
    "        return not self.dq\n",
    "    \n",
    "    def contains(self, x):\n",
    "        return x in self.dq\n",
    "    \n",
    "    def remove(self, x):\n",
    "        self.dq.remove(x)\n",
    "\n",
    "\n",
    "class Queue(Stack):\n",
    "\n",
    "    def pop(self):\n",
    "        return self.dq.popleft()"
   ]
  },
  {
   "cell_type": "code",
   "execution_count": 3,
   "metadata": {},
   "outputs": [],
   "source": [
    "class Vertex:\n",
    "    \n",
    "    idx = 0\n",
    "    \n",
    "    def __init__(self, name):\n",
    "        self.idx = Vertex.idx\n",
    "        Vertex.idx += 1\n",
    "        \n",
    "        self.name = name\n",
    "        \n",
    "    def __str__(self):\n",
    "        return f'{self.name}: {self.idx}'\n",
    "    \n",
    "class Graph:\n",
    "    def __init__(self, name):\n",
    "        self.vertices = dict()\n",
    "        self.edges = dict()\n",
    "        self.name = name\n",
    "        self.curr = None\n",
    "        \n",
    "    def add_vertex(self, v):\n",
    "        assert v.name not in self.vertices, f'Vertex {v.name} already exists in Graph {self.name}'\n",
    "        self.vertices[v.name] = v\n",
    "        self.edges[v.name] = set()\n",
    "        \n",
    "    def connect(self, u, v):\n",
    "        assert u in self.vertices, f'Vertex {u} does not exist in Graph {self.name}'\n",
    "        assert v in self.vertices, f'Vertex {v} does not exist in Graph {self.name}'\n",
    "        self.edges[u].add(v)\n",
    "        self.edges[v].add(u)\n",
    "        \n",
    "    def __str__(self):\n",
    "        return str(self.edges)\n",
    "    \n",
    "    @classmethod\n",
    "    def lollipop(cls, m, n):\n",
    "        g = cls('lollipop')\n",
    "        # clique\n",
    "        for i in range(m):\n",
    "            v = Vertex(f'v{i}')\n",
    "            g.add_vertex(v)\n",
    "        for i in range(m):\n",
    "            for j in range(i+1, m):\n",
    "                g.connect(f'v{i}', f'v{j}')\n",
    "        # line\n",
    "        for i in range(m, m+n):\n",
    "            v = Vertex(f'v{i}')\n",
    "            g.add_vertex(v)\n",
    "        g.connect('v0', f'v{m}') # connection point\n",
    "        for i in range(m, m+n-1):\n",
    "            g.connect(f'v{i}', f'v{i+1}')\n",
    "        return g\n",
    "    \n",
    "    @classmethod\n",
    "    def line(cls, n):\n",
    "        g = cls('line')\n",
    "        for i in range(n):\n",
    "            v = Vertex(f'v{i}')\n",
    "            g.add_vertex(v)\n",
    "        for i in range(n - 1):\n",
    "            g.connect(f'v{i}', f'v{i+1}')\n",
    "        return g\n",
    "    \n",
    "    @classmethod\n",
    "    def gamblers_line(cls, n):\n",
    "        g = cls('gamblers-line')\n",
    "        for i in range(n):\n",
    "            v = Vertex(f'{i}')\n",
    "            g.add_vertex(v)\n",
    "        for i in range(n - 1):\n",
    "            g.connect(f'{i}', f'{i+1}')\n",
    "        return g\n",
    "    \n",
    "    @classmethod\n",
    "    def clique(cls, k):\n",
    "        g = cls('clique')\n",
    "        for i in range(k):\n",
    "            v = Vertex(f'v{i}')\n",
    "            g.add_vertex(v)\n",
    "        for i in range(k):\n",
    "            for j in range(i+1, k):\n",
    "                g.connect(f'v{i}', f'v{j}')\n",
    "        return g\n",
    "    \n",
    "    def move_to(self, v):\n",
    "        self.curr = v\n",
    "        return self.curr\n",
    "        \n",
    "    def neighbors(self, v):\n",
    "        return self.edges[v]\n",
    "        ###\n",
    "        \"\"\"\n",
    "        nbors = set()\n",
    "        for e in self.edges:\n",
    "            v1, v2 = e\n",
    "            if v1 == v:\n",
    "                nbors.add(v2)\n",
    "            elif v2 == v:\n",
    "                nbors.add(v1)\n",
    "        return nbors\n",
    "        \"\"\"\n",
    "    \n",
    "    def random_step(self):\n",
    "        assert self.curr is not None, f'Graph needs a starting vertex'\n",
    "        return self.move_to(self.sample(self.neighbors(self.curr)))\n",
    "        \n",
    "    def random_walk(self, n=None):\n",
    "        vertex_set = self.vertices.keys()\n",
    "        path = []\n",
    "        if self.curr is None:\n",
    "            self.curr = self.sample(vertex_set)\n",
    "            path.append(self.curr)\n",
    "        if n is not None:\n",
    "            while n > 0:\n",
    "                path.append(self.random_step())\n",
    "                n -= 1\n",
    "            return path\n",
    "        visited = set()\n",
    "        while vertex_set - visited:\n",
    "            path.append(self.random_step())\n",
    "            visited.add(self.curr)\n",
    "        return path\n",
    "    \n",
    "    def random_walk_until(self, targets):\n",
    "        assert self.curr is not None, f'Starting point of a random walk with a target endpoint cannot be None'\n",
    "        path = []\n",
    "        first = True\n",
    "        while self.curr not in targets or first:\n",
    "            path.append(self.random_step())\n",
    "            first = False\n",
    "        return path\n",
    "    \n",
    "    def weighted_random_walk_until(self, p, q, targets):\n",
    "        assert self.curr is not None, f'Starting point of a random walk with a target endpoint cannot be None'\n",
    "        path = []\n",
    "        first = True\n",
    "        while self.curr not in targets or first:\n",
    "            nbors = list(self.neighbors(self.curr))\n",
    "            assert len(nbors) == 2, f'Graph should be a line graph and target vertices should be the endpoint vertices – currently at {self.curr} with neighbors {self.neighbors(self.curr)}'\n",
    "            nbor0, nbor1 = nbors\n",
    "            try:\n",
    "                nbor0_val, nbor1_val = int(nbor0), int(nbor1)\n",
    "                curr_val = int(self.curr)\n",
    "            except ValueError:\n",
    "                raise Exception('Vertices should be named as integers')\n",
    "            if nbor0_val < curr_val:\n",
    "                left, right = nbor0, nbor1\n",
    "            else:\n",
    "                left, right = nbor1, nbor0\n",
    "            if random.random() < p:\n",
    "                path.append(self.move_to(right))\n",
    "            else:\n",
    "                path.append(self.move_to(left))\n",
    "            first = False\n",
    "        return path\n",
    "    \n",
    "    def random_step(self):\n",
    "        assert self.curr is not None, f'Graph needs a starting vertex'\n",
    "        return self.move_to(self.sample(self.neighbors(self.curr)))\n",
    "    \n",
    "    @staticmethod\n",
    "    def sample(s):\n",
    "        return random.choice(list(s))\n",
    "    \n",
    "    @classmethod\n",
    "    def copy(cls, g):\n",
    "        new = cls(f'copy of {g.name}')\n",
    "        new.vertices = g.vertices.copy()\n",
    "        for u in g.edges:\n",
    "            new.edges[u] = g.edges[u].copy()\n",
    "#         new.edges = g.edges.copy()\n",
    "        new.curr = g.curr\n",
    "        return new\n",
    "    \n",
    "    @classmethod\n",
    "    def gnp(cls, n, p):\n",
    "        g = cls(f'G_\\u007b{n},{p}\\u007d')\n",
    "        for i in range(n):\n",
    "            v = Vertex(f'v{i}')\n",
    "            g.add_vertex(v)\n",
    "        for i in range(n):\n",
    "            for j in range(i+1, n):\n",
    "                if random.random() < p:\n",
    "                    g.connect(f'v{i}', f'v{j}')\n",
    "        return g\n",
    "    \n",
    "    def karger(self):\n",
    "        copy = Multigraph.copy(self)\n",
    "        while len(copy.vertices) > 2:\n",
    "            e = Graph.sample(copy.edge_set())\n",
    "            copy.contract(e)\n",
    "        cut = copy.edge_set()\n",
    "        u, v = tuple(copy.vertices.keys())\n",
    "        s0, s1 = set(), set()\n",
    "        for vertex in u.split('-'):\n",
    "            s0.add(vertex)\n",
    "        for vertex in v.split('-'):\n",
    "            s1.add(vertex)\n",
    "        return s0, s1\n",
    "    \n",
    "    def remove_edge(self, e):\n",
    "        u, v = e\n",
    "        self.edges[u].remove(v)\n",
    "        self.edges[v].remove(u)\n",
    "        \n",
    "    def dfs(self, start=None):\n",
    "        start = start or self.curr\n",
    "        assert start is not None, 'DFS needs a starting vertex'\n",
    "        return self.search(start, Stack())\n",
    "    \n",
    "    def bfs(self, start=None):\n",
    "        start = start or self.curr\n",
    "        assert start is not None, 'BFS needs a starting vertex'\n",
    "        return self.search(start, Queue())\n",
    "        \n",
    "    def search(self, start, ds):\n",
    "        visited = list()\n",
    "        ds.insert(start)\n",
    "        while not ds.is_empty():\n",
    "            u = ds.pop()\n",
    "            visited.append(u)\n",
    "\n",
    "            for v in self.neighbors(u):\n",
    "                if v not in visited:\n",
    "                    if ds.contains(v):\n",
    "                        ds.remove(v)\n",
    "                    ds.insert(v)\n",
    "        return visited\n",
    "        \n",
    "        \n",
    "    def edge_set(self):\n",
    "        edges = set()\n",
    "        for u in self.edges:\n",
    "            for v in self.edges[u]:\n",
    "                if (v, u) not in edges:\n",
    "                    edges.add((u, v))\n",
    "        return edges\n",
    "        \n",
    "    def contract(self, e):\n",
    "        u, v = e\n",
    "        merged_neighbors = (self.neighbors(u) | self.neighbors(v)) - {u , v}\n",
    "        self.remove_vertex(u)\n",
    "        self.remove_vertex(v)\n",
    "        s = Vertex(f'{u}-{v}')\n",
    "        self.add_vertex(s)\n",
    "        for t in merged_neighbors:\n",
    "                self.connect(s.name, t)\n",
    "            \n",
    "    def remove_vertex(self, u):\n",
    "        for v in self.neighbors(u):\n",
    "            self.edges[v].remove(u)\n",
    "        self.edges.pop(u)\n",
    "        self.vertices.pop(u)\n",
    "    \n",
    "    def verify(self, c0, c1):\n",
    "        certificate = self.count(c0, c1)\n",
    "        n = len(self.vertices)\n",
    "        for b in range(1, (2 ** n) - 1): # exclude empty partitions\n",
    "            s0 = set()\n",
    "            s1 = set()\n",
    "            for i in range(n):\n",
    "                if (b >> i) & 1 == 0:\n",
    "                    s0.add(f'v{i}')\n",
    "                else:\n",
    "                    s1.add(f'v{i}')\n",
    "            if self.count(s0, s1) < certificate:\n",
    "                return False\n",
    "        return True\n",
    "    \n",
    "    def count(self, s0, s1):\n",
    "        assert s0 | s1 == set(self.vertices.keys()), 'Partition of vertices must assign each vertex to exactly one set'\n",
    "        total = 0\n",
    "        for u in s0:\n",
    "            for v in self.neighbors(u):\n",
    "                if v in s1:\n",
    "                    total += 1\n",
    "        return total\n",
    "    \n",
    "    def is_connected(self):\n",
    "        return not bool(self.vertices.keys() - self.bfs(Graph.sample(self.vertices)))\n",
    "        \n",
    "    def independent_sets(self, k):\n",
    "        n = len(self.vertices)\n",
    "        indep_sets = list()\n",
    "        subsets = Graph.subsets(list(self.vertices.keys()), k)\n",
    "        for s in subsets:\n",
    "            count = True\n",
    "            for u in s:\n",
    "                if not count:\n",
    "                    break\n",
    "                for v in self.edges[u]:\n",
    "                    if v in s:\n",
    "                        count = False\n",
    "                        break\n",
    "            if count:\n",
    "                indep_sets.append(s)\n",
    "        return indep_sets\n",
    "    \n",
    "    @staticmethod\n",
    "    def subsets(s, k):\n",
    "        if k > len(s):\n",
    "            return []\n",
    "        if k == 0:\n",
    "            return [[]]\n",
    "        curr = s[0]\n",
    "        with_curr, without_curr = Graph.subsets(s[1:], k - 1), Graph.subsets(s[1:], k)\n",
    "        return [[curr] + subset for subset in with_curr] + without_curr     \n",
    "    \n",
    "    @staticmethod\n",
    "    def choose(n, k):\n",
    "        return Graph.fact(n) / (Graph.fact(k) * Graph.fact(n-k))\n",
    "        \n",
    "    @staticmethod\n",
    "    def fact(n):\n",
    "        return 1 if n < 1 else n * Graph.fact(n-1)\n",
    "    \n",
    "    def random_partition(self, p=0.5):\n",
    "        s0, s1 = set(), set()\n",
    "        for v in self.vertices:\n",
    "            if random.random() < p:\n",
    "                s0.add(v)\n",
    "            else:\n",
    "                s1.add(v)\n",
    "        return s0, s1\n",
    "    \n",
    "    def num_edges(self):\n",
    "        return len(self.edge_set())\n",
    "    \n",
    "    def greedy_max_cut(self):\n",
    "        vertices = list(self.vertices.keys())\n",
    "        A, B = set(), set()\n",
    "        A.add(vertices[0])\n",
    "        for u in vertices[1:]:\n",
    "            count_a, count_b = 0, 0\n",
    "            for v in self.neighbors(u):\n",
    "                if v in A:\n",
    "                    count_a += 1\n",
    "                if v in B:\n",
    "                    count_b += 1\n",
    "            if count_a > count_b:\n",
    "                B.add(u)\n",
    "            else:\n",
    "                A.add(u)\n",
    "        return A, B\n",
    "    \n",
    "    def random_independent_set(self):\n",
    "        d = self.avg_degree()\n",
    "        p = 1 - (1/d)\n",
    "        copy = Graph.copy(self)\n",
    "        for u in self.vertices:\n",
    "            if random.random() < p:\n",
    "                copy.remove_vertex(u)\n",
    "        for e in copy.edge_set().copy():\n",
    "            if e in copy.edge_set():\n",
    "                copy.remove_vertex(random.choice(e))\n",
    "        return set(copy.vertices.keys())\n",
    "        \n",
    "    def avg_degree(self):\n",
    "        return (2 * self.num_edges()) / len(self.vertices)\n",
    "    \n",
    "    def verify_independent_set(self, s):\n",
    "        for u in s:\n",
    "            if set(self.neighbors(u)) & s != set():\n",
    "                return False\n",
    "        return True"
   ]
  },
  {
   "cell_type": "code",
   "execution_count": 4,
   "metadata": {},
   "outputs": [],
   "source": [
    "class Multigraph(Graph):\n",
    "        \n",
    "    def add_vertex(self, v):\n",
    "        assert v.name not in self.vertices, f'Vertex {v.name} already exists in Graph {self.name}'\n",
    "        self.vertices[v.name] = v\n",
    "        self.edges[v.name] = list()\n",
    "        \n",
    "    def connect(self, u, v):\n",
    "        assert u in self.vertices, f'Vertex {u} does not exist in Graph {self.name}'\n",
    "        assert v in self.vertices, f'Vertex {v} does not exist in Graph {self.name}'\n",
    "        self.edges[u].append(v)\n",
    "        self.edges[v].append(u)\n",
    "    \n",
    "    def edge_set(self):\n",
    "        edges = list()\n",
    "        for u in self.edges:\n",
    "            for v in self.edges[u]:\n",
    "                if (v, u) not in edges:\n",
    "                    edges.append((u, v))\n",
    "        return edges\n",
    "    \n",
    "    @classmethod\n",
    "    def copy(cls, g):\n",
    "        new = cls(f'copy of {g.name}')\n",
    "        new.vertices = g.vertices.copy()\n",
    "        for u in g.edges:\n",
    "            new.edges[u] = list(g.edges[u].copy())\n",
    "#         new.edges = g.edges.copy()\n",
    "        new.curr = g.curr\n",
    "        return new\n",
    "    \n",
    "    def contract(self, e):\n",
    "        u, v = e\n",
    "        merged_neighbors = self.neighbors(u) + self.neighbors(v)\n",
    "        self.remove_vertex(u)\n",
    "        self.remove_vertex(v)\n",
    "        s = Vertex(f'{u}-{v}')\n",
    "        self.add_vertex(s)\n",
    "        for t in merged_neighbors:\n",
    "            if t != u and t != v:\n",
    "                self.connect(s.name, t)"
   ]
  },
  {
   "cell_type": "markdown",
   "metadata": {},
   "source": [
    "# Average Cover Time of Random Walks on Various Graphs\n",
    "### Inspired by CS 174 Sp23 HW8 Q2\n",
    "- pset: https://people.eecs.berkeley.edu/~sinclair/cs174/ex8.pdf\n",
    "- sol: https://people.eecs.berkeley.edu/~sinclair/cs174/sol8.pdf"
   ]
  },
  {
   "cell_type": "code",
   "execution_count": 5,
   "metadata": {},
   "outputs": [
    {
     "data": {
      "text/plain": [
       "[24, 18, 18, 12, 26, 14, 10, 32, 24, 28]"
      ]
     },
     "execution_count": 5,
     "metadata": {},
     "output_type": "execute_result"
    }
   ],
   "source": [
    "# O(n^2)\n",
    "line = Graph.line(5)\n",
    "[len(line.random_walk()) for _ in range(10)]"
   ]
  },
  {
   "cell_type": "code",
   "execution_count": 6,
   "metadata": {},
   "outputs": [
    {
     "data": {
      "text/plain": [
       "[8, 13, 14, 11, 13, 13, 22, 7, 7, 9]"
      ]
     },
     "execution_count": 6,
     "metadata": {},
     "output_type": "execute_result"
    }
   ],
   "source": [
    "# O(nlogn + n)\n",
    "clique = Graph.clique(5)\n",
    "[len(clique.random_walk()) for _ in range(10)]"
   ]
  },
  {
   "cell_type": "code",
   "execution_count": 7,
   "metadata": {},
   "outputs": [
    {
     "data": {
      "text/plain": [
       "[7, 15, 8, 16, 14, 26, 48, 8, 8, 7]"
      ]
     },
     "execution_count": 7,
     "metadata": {},
     "output_type": "execute_result"
    }
   ],
   "source": [
    "# O(n^3)\n",
    "lollipop = Graph.lollipop(3, 2)\n",
    "[len(lollipop.random_walk()) for _ in range(10)]"
   ]
  },
  {
   "cell_type": "code",
   "execution_count": 8,
   "metadata": {},
   "outputs": [],
   "source": [
    "import matplotlib.pyplot as plt"
   ]
  },
  {
   "cell_type": "code",
   "execution_count": 9,
   "metadata": {},
   "outputs": [],
   "source": [
    "def plot(start=5, stop=100, step=5, samples=1000, mode='median'):\n",
    "    lines = []\n",
    "    cliques = []\n",
    "    lollipops = []\n",
    "    for n in range(start, stop, step):\n",
    "        if mode == 'mean':\n",
    "            line_sum, clique_sum, lollipop_sum = 0, 0, 0\n",
    "            for _ in range(samples):\n",
    "                line = Graph.line(n)\n",
    "                clique = Graph.clique(n)\n",
    "                lollipop = Graph.lollipop(n//2, n//2)\n",
    "                line_sum += len(line.random_walk())\n",
    "                clique_sum += len(clique.random_walk())\n",
    "                lollipop_sum += len(lollipop.random_walk())\n",
    "            lines.append(line_sum / samples)\n",
    "            cliques.append(clique_sum / samples)\n",
    "            lollipops.append(lollipop_sum / samples)\n",
    "        elif mode == 'median':\n",
    "            line_vals, clique_vals, lollipop_vals = [], [], []\n",
    "            for _ in range(samples):\n",
    "                line = Graph.line(n)\n",
    "                clique = Graph.clique(n)\n",
    "                lollipop = Graph.lollipop(n//2, n//2)\n",
    "                line_vals.append(len(line.random_walk()))\n",
    "                clique_vals.append(len(clique.random_walk()))\n",
    "                lollipop_vals.append(len(lollipop.random_walk()))\n",
    "            lines.append(sorted(line_vals)[samples//2])\n",
    "            cliques.append(sorted(clique_vals)[samples//2])\n",
    "            lollipops.append(sorted(lollipop_vals)[samples//2])\n",
    "    x = range(start, stop, step)\n",
    "    plt.title('Average Cover Time of Random Walks on Graphs')\n",
    "    plt.xlabel('# vertices')\n",
    "    plt.ylabel('avg # of steps')\n",
    "    plt.plot(x, lines, label='Line')\n",
    "    plt.plot(x, cliques, label='Clique')\n",
    "    plt.plot(x, lollipops, label='Lollipop')\n",
    "    max_steps = max(lines + cliques + lollipops)\n",
    "#     plt.ylim(0, max_steps)\n",
    "#     plt.yticks(range(0, max_steps, 50))\n",
    "#     plt.xticks(x)\n",
    "    plt.legend()\n",
    "    plt.show()"
   ]
  },
  {
   "cell_type": "code",
   "execution_count": 10,
   "metadata": {
    "scrolled": true
   },
   "outputs": [
    {
     "data": {
      "image/png": "[encoded data removed]",
      "text/plain": [
       "<Figure size 432x288 with 1 Axes>"
      ]
     },
     "metadata": {
      "needs_background": "light"
     },
     "output_type": "display_data"
    }
   ],
   "source": [
    "plot(start=10, stop=51, step=5, samples=20)"
   ]
  },
  {
   "cell_type": "code",
   "execution_count": 11,
   "metadata": {},
   "outputs": [
    {
     "data": {
      "image/png": "[encoded data removed]",
      "text/plain": [
       "<Figure size 432x288 with 1 Axes>"
      ]
     },
     "metadata": {
      "needs_background": "light"
     },
     "output_type": "display_data"
    }
   ],
   "source": [
    "plot(start=10, stop=101, step=10, samples=20)"
   ]
  },
  {
   "cell_type": "markdown",
   "metadata": {},
   "source": [
    "# Karger's Min Cut Algorithm\n",
    "### Inspired by CS 174 Sp23 Lecture 3\n",
    "- website: https://people.eecs.berkeley.edu/~sinclair/cs174/s23.html"
   ]
  },
  {
   "cell_type": "markdown",
   "metadata": {},
   "source": [
    "### (MU) Theorem 1.8: Karger's Min Cut Algorithm outputs a min cut with probability at least $$\\frac{2}{n(n-1)}$$"
   ]
  },
  {
   "cell_type": "code",
   "execution_count": 12,
   "metadata": {},
   "outputs": [],
   "source": [
    "def karger_test(start, stop, step, samples, p):\n",
    "    bounds, actuals = [], []\n",
    "    for n in range(start, stop, step):\n",
    "        prob_bound = 2/(n * (n - 1))\n",
    "        prob_actual = 0\n",
    "        for _ in range(samples):\n",
    "            g = Graph.gnp(n, p)\n",
    "            while not g.is_connected():\n",
    "                g = Graph.gnp(n, p)\n",
    "            s0, s1 = g.karger()\n",
    "            if g.verify(s0, s1):\n",
    "                prob_actual += 1\n",
    "        prob_actual /= samples\n",
    "        print(f'{n} vertices – p_bound: {round(prob_bound, 3)}, p_actual: {round(prob_actual, 3)}')\n",
    "        bounds.append(prob_bound)\n",
    "        actuals.append(prob_actual)\n",
    "        if prob_actual < prob_bound:\n",
    "            print('failed')\n",
    "            return\n",
    "    print('passed!')\n",
    "    return bounds, actuals"
   ]
  },
  {
   "cell_type": "code",
   "execution_count": 13,
   "metadata": {},
   "outputs": [
    {
     "name": "stdout",
     "output_type": "stream",
     "text": [
      "2 vertices – p_bound: 1.0, p_actual: 1.0\n",
      "3 vertices – p_bound: 0.333, p_actual: 1.0\n",
      "4 vertices – p_bound: 0.167, p_actual: 0.86\n",
      "5 vertices – p_bound: 0.1, p_actual: 0.72\n",
      "6 vertices – p_bound: 0.067, p_actual: 0.76\n",
      "7 vertices – p_bound: 0.048, p_actual: 0.6\n",
      "8 vertices – p_bound: 0.036, p_actual: 0.5\n",
      "9 vertices – p_bound: 0.028, p_actual: 0.35\n",
      "10 vertices – p_bound: 0.022, p_actual: 0.37\n",
      "11 vertices – p_bound: 0.018, p_actual: 0.41\n",
      "12 vertices – p_bound: 0.015, p_actual: 0.37\n",
      "13 vertices – p_bound: 0.013, p_actual: 0.37\n",
      "14 vertices – p_bound: 0.011, p_actual: 0.34\n",
      "15 vertices – p_bound: 0.01, p_actual: 0.3\n",
      "16 vertices – p_bound: 0.008, p_actual: 0.31\n",
      "17 vertices – p_bound: 0.007, p_actual: 0.36\n",
      "18 vertices – p_bound: 0.007, p_actual: 0.26\n",
      "19 vertices – p_bound: 0.006, p_actual: 0.31\n",
      "20 vertices – p_bound: 0.005, p_actual: 0.23\n",
      "passed!\n"
     ]
    }
   ],
   "source": [
    "bounds, actuals = karger_test(2, 21, 1, 100, 0.4)"
   ]
  },
  {
   "cell_type": "code",
   "execution_count": 14,
   "metadata": {},
   "outputs": [
    {
     "data": {
      "image/png": "[encoded data removed]",
      "text/plain": [
       "<Figure size 432x288 with 1 Axes>"
      ]
     },
     "metadata": {
      "needs_background": "light"
     },
     "output_type": "display_data"
    }
   ],
   "source": [
    "x = range(2, 21, 1)\n",
    "plt.title(f\"Empirical Correctness Probability of Karger's Min Cut Algorithm and its Theoretical Lower Bound on G_\\u007bn,{0.4}\\u007d\")\n",
    "plt.xlabel('# vertices')\n",
    "plt.ylabel('probability of correctness')\n",
    "plt.plot(x, bounds, label='Lower Bound')\n",
    "plt.plot(x, actuals, label='Empirical')\n",
    "plt.legend()\n",
    "plt.show()"
   ]
  },
  {
   "cell_type": "markdown",
   "metadata": {},
   "source": [
    "# Random Walks and Stationary Distributions\n",
    "### Inspired by CS 174 Sp23 Final Q1a-c\n",
    "- sol: https://people.eecs.berkeley.edu/~sinclair/cs174/final_sol.pdf"
   ]
  },
  {
   "cell_type": "code",
   "execution_count": 15,
   "metadata": {},
   "outputs": [],
   "source": [
    "g = Graph('sp23-final')\n",
    "for name in {'a', 'b', 'c', 'd', 'e', 'f'}:\n",
    "    v = Vertex(name)\n",
    "    g.add_vertex(v)\n",
    "g.connect('a', 'b')\n",
    "g.connect('a', 'c')\n",
    "g.connect('b', 'c')\n",
    "g.connect('b', 'd')\n",
    "g.connect('c', 'd')\n",
    "g.connect('d', 'e')\n",
    "g.connect('d', 'f')\n",
    "g.connect('e', 'f')"
   ]
  },
  {
   "cell_type": "code",
   "execution_count": 16,
   "metadata": {},
   "outputs": [
    {
     "name": "stdout",
     "output_type": "stream",
     "text": [
      "Proportion of time spent at vertex d in equilibrium – Expected: 0.25, Actual: 0.24975375024624977\n"
     ]
    }
   ],
   "source": [
    "# Q1a\n",
    "n = 1000000\n",
    "walk = g.random_walk(n=n)\n",
    "print(f'Proportion of time spent at vertex d in equilibrium – Expected: 0.25, Actual: {walk.count(\"d\")/len(walk)}')"
   ]
  },
  {
   "cell_type": "code",
   "execution_count": 17,
   "metadata": {},
   "outputs": [
    {
     "name": "stdout",
     "output_type": "stream",
     "text": [
      "Time to return to d starting from d – Expected: 4, Actual: 3.999543\n"
     ]
    }
   ],
   "source": [
    "# Q1b\n",
    "n = 1000000 \n",
    "g.move_to('d')\n",
    "total = 0\n",
    "for _ in range(n):\n",
    "    total += len(g.random_walk_until(set('d')))\n",
    "    \n",
    "print(f'Time to return to d starting from d – Expected: 4, Actual: {total / n}')"
   ]
  },
  {
   "cell_type": "code",
   "execution_count": 18,
   "metadata": {},
   "outputs": [
    {
     "name": "stdout",
     "output_type": "stream",
     "text": [
      "Time to hit to d starting from e – Expected: 2, Actual: 1.999862\n"
     ]
    }
   ],
   "source": [
    "# Q1c\n",
    "n = 1000000\n",
    "total = 0\n",
    "for _ in range(n):\n",
    "    g.move_to('e')\n",
    "    total += len(g.random_walk_until('d'))\n",
    "    \n",
    "print(f'Time to hit to d starting from e – Expected: 2, Actual: {total / n}')"
   ]
  },
  {
   "cell_type": "markdown",
   "metadata": {},
   "source": [
    "# Independent Sets in Erdős–Rényi Random Graphs\n",
    "### Inspired by CS 174 Sp23 Midterm Q4\n",
    "- sol: https://people.eecs.berkeley.edu/~sinclair/cs174/sol_midterm.pdf"
   ]
  },
  {
   "cell_type": "code",
   "execution_count": 19,
   "metadata": {},
   "outputs": [],
   "source": [
    "samples = 100\n",
    "actuals = []\n",
    "k = 4\n",
    "p = 0.4\n",
    "\n",
    "x = range(5, 51, 5)\n",
    "\n",
    "for n in x:\n",
    "    total = 0\n",
    "    for _ in range(samples):\n",
    "        g = Graph.gnp(n, p)\n",
    "        total += len(g.independent_sets(k))\n",
    "    actuals.append(total / samples)\n",
    "expected = [Graph.choose(n, k) * ((1-p) ** (Graph.choose(k, 2))) for n in x]"
   ]
  },
  {
   "cell_type": "code",
   "execution_count": 20,
   "metadata": {},
   "outputs": [
    {
     "data": {
      "image/png": "[encoded data removed]",
      "text/plain": [
       "<Figure size 432x288 with 1 Axes>"
      ]
     },
     "metadata": {
      "needs_background": "light"
     },
     "output_type": "display_data"
    }
   ],
   "source": [
    "plt.title(f\"Average # of Independent Sets of size {k} in G_\\u007bn,{p}\\u007d\")\n",
    "plt.xlabel('# vertices')\n",
    "plt.ylabel(f'avg # indep. sets of size {k}')\n",
    "plt.plot(x, expected, label='Expected')\n",
    "plt.plot(x, actuals, label='Actual')\n",
    "plt.legend()\n",
    "plt.show()"
   ]
  },
  {
   "cell_type": "markdown",
   "metadata": {},
   "source": [
    "# Unfair Games – Bankruptcy Probability and Stopping Time\n",
    "### Inspired by CS 174 Sp23 Final Q11\n",
    "- sol: https://people.eecs.berkeley.edu/~sinclair/cs174/final_sol.pdf"
   ]
  },
  {
   "cell_type": "code",
   "execution_count": 21,
   "metadata": {},
   "outputs": [
    {
     "data": {
      "image/png": "[encoded data removed]",
      "text/plain": [
       "<Figure size 432x288 with 1 Axes>"
      ]
     },
     "metadata": {
      "needs_background": "light"
     },
     "output_type": "display_data"
    },
    {
     "data": {
      "image/png": "[encoded data removed]",
      "text/plain": [
       "<Figure size 432x288 with 1 Axes>"
      ]
     },
     "metadata": {
      "needs_background": "light"
     },
     "output_type": "display_data"
    }
   ],
   "source": [
    "n = 100+1\n",
    "g = Graph.gamblers_line(n)\n",
    "# ps = [0.1, 0.2, 0.3, 0.35, 0.4, 0.41, 0.42, 0.43, 0.44, 0.45, 0.46, 0.47, 0.48, 0.49, 0.499]\n",
    "ps = [0.38, 0.39, 0.4, 0.41, 0.42, 0.43, 0.44, 0.45, 0.46, 0.47, 0.48, 0.49, 0.499]\n",
    "qs = [1 - p for p in ps]\n",
    "m = n // 2\n",
    "samples = 1000\n",
    "expected_p_banks, actual_p_banks = [], []\n",
    "expected_stopping_times, actual_stopping_times = [], []\n",
    "ρs = []\n",
    "for p, q in zip(ps, qs):\n",
    "    ρ = q / p\n",
    "    ρs.append(ρ)\n",
    "    p_bank_expected = ((ρ ** m) - 1) / ((ρ ** m) - (ρ ** (-m)))\n",
    "    p_bank_actual = 0\n",
    "    actual_stopping_time = 0\n",
    "    for _ in range(samples):\n",
    "        g.move_to(str(m))\n",
    "        walk = g.weighted_random_walk_until(p, q, {'0', str(n-1)})\n",
    "        if walk[-1] == '0':\n",
    "            p_bank_actual += 1\n",
    "        actual_stopping_time += len(walk)\n",
    "    p_bank_actual /= samples\n",
    "    actual_stopping_time /= samples\n",
    "    expected_p_banks.append(p_bank_expected)\n",
    "    actual_p_banks.append(p_bank_actual)\n",
    "    expected_stopping_times.append((m/(q-p)) * ((2*p_bank_expected) - 1))\n",
    "    actual_stopping_times.append(actual_stopping_time)\n",
    "plt.title(f\"Empirical Probability Gambler Loses an Unfair Game on [-${m}, ${m}] and its Expected Probability\")\n",
    "plt.xlabel('ρ := q/p')\n",
    "plt.ylabel(f'probability gambler loses')\n",
    "plt.plot(ρs, expected_p_banks, label='Expected')\n",
    "plt.plot(ρs, actual_p_banks, label='Actual')\n",
    "plt.legend()\n",
    "plt.show()\n",
    "plt.title(f\"Empirical and Expected Stopping Time of an Unfair Game on [-${m}, ${m}]\")\n",
    "plt.xlabel('ρ := q/p')\n",
    "plt.ylabel(f'# steps')\n",
    "plt.plot(ρs, expected_stopping_times, label='Expected')\n",
    "plt.plot(ρs, actual_stopping_times, label='Actual')\n",
    "plt.legend()\n",
    "plt.show()"
   ]
  },
  {
   "cell_type": "markdown",
   "metadata": {},
   "source": [
    "# DFS, BFS Sanity Check\n",
    "- Example Graphs from DPV: https://people.eecs.berkeley.edu/~vazirani/algorithms/chap3.pdf, https://people.eecs.berkeley.edu/~vazirani/algorithms/chap4.pdf"
   ]
  },
  {
   "cell_type": "code",
   "execution_count": 22,
   "metadata": {},
   "outputs": [],
   "source": [
    "g = Graph('DPV-fig4.4')\n",
    "for name in {'S', 'A', 'C', 'D', 'E', 'B'}:\n",
    "    v = Vertex(name)\n",
    "    g.add_vertex(v)\n",
    "g.connect('S', 'A')\n",
    "g.connect('A', 'B')\n",
    "g.connect('S', 'C')\n",
    "g.connect('S', 'D')\n",
    "g.connect('S', 'E')\n",
    "\n",
    "assert g.bfs('S')[-1] == 'B', 'BFS should end with the vertex furthest from the source'"
   ]
  },
  {
   "cell_type": "code",
   "execution_count": 23,
   "metadata": {},
   "outputs": [],
   "source": [
    "g = Graph('DPV-fig4.4-variation')\n",
    "for name in {'S', 'A', 'C', 'D', 'E', 'B', 'F'}:\n",
    "    v = Vertex(name)\n",
    "    g.add_vertex(v)\n",
    "\n",
    "g.connect('S', 'A')\n",
    "g.connect('A', 'B')\n",
    "g.connect('S', 'C')\n",
    "g.connect('S', 'D')\n",
    "g.connect('S', 'E')\n",
    "g.connect('S', 'F')\n",
    "g.connect('B', 'F')\n",
    "\n",
    "bfs = g.bfs('S')\n",
    "assert bfs.index('F') < bfs.index('B')"
   ]
  },
  {
   "cell_type": "code",
   "execution_count": 24,
   "metadata": {},
   "outputs": [
    {
     "data": {
      "text/plain": [
       "['S', 'C', 'B', 'A', 'D', 'E']"
      ]
     },
     "execution_count": 24,
     "metadata": {},
     "output_type": "execute_result"
    }
   ],
   "source": [
    "g = Graph('DPV-fig4.1')\n",
    "for name in {'S', 'A', 'C', 'D', 'E', 'B'}:\n",
    "    v = Vertex(name)\n",
    "    g.add_vertex(v)\n",
    "g.connect('S', 'A')\n",
    "g.connect('A', 'B')\n",
    "g.connect('B', 'C')\n",
    "g.connect('S', 'C')\n",
    "g.connect('S', 'D')\n",
    "g.connect('S', 'E')\n",
    "g.connect('D', 'E')\n",
    "\n",
    "g.dfs('S')"
   ]
  },
  {
   "cell_type": "code",
   "execution_count": 25,
   "metadata": {},
   "outputs": [
    {
     "data": {
      "text/plain": [
       "['A', 'D', 'G', 'H', 'C', 'F', 'B', 'E', 'I', 'J']"
      ]
     },
     "execution_count": 25,
     "metadata": {},
     "output_type": "execute_result"
    }
   ],
   "source": [
    "g = Graph('DPV-fig3.2')\n",
    "for name in {'A', 'B', 'C', 'D', 'E', 'F', 'G', 'H', 'I', 'J', 'K', 'L'}:\n",
    "    v = Vertex(name)\n",
    "    g.add_vertex(v)\n",
    "g.connect('D', 'G')\n",
    "g.connect('D', 'H')\n",
    "g.connect('D', 'A')\n",
    "g.connect('A', 'C')\n",
    "g.connect('A', 'B')\n",
    "g.connect('B', 'F')\n",
    "g.connect('C', 'F')\n",
    "g.connect('B', 'E')\n",
    "g.connect('E', 'I')\n",
    "g.connect('E', 'J')\n",
    "g.connect('I', 'J')\n",
    "\n",
    "g.connect('K', 'L')\n",
    "\n",
    "\n",
    "g.dfs('A')"
   ]
  },
  {
   "cell_type": "markdown",
   "metadata": {},
   "source": [
    "# The Probabilistic Method\n",
    "### Inspired by MU 6.2.1, 6.3, 6.4"
   ]
  },
  {
   "cell_type": "markdown",
   "metadata": {},
   "source": [
    "### Las Vegas Approximate Max Cut"
   ]
  },
  {
   "cell_type": "code",
   "execution_count": 71,
   "metadata": {},
   "outputs": [
    {
     "data": {
      "text/plain": [
       "4"
      ]
     },
     "execution_count": 71,
     "metadata": {},
     "output_type": "execute_result"
    }
   ],
   "source": [
    "# test count method\n",
    "g = Graph('DPV-fig4.4')\n",
    "for name in {'S', 'A', 'C', 'D', 'E', 'B'}:\n",
    "    v = Vertex(name)\n",
    "    g.add_vertex(v)\n",
    "g.connect('S', 'A')\n",
    "g.connect('A', 'B')\n",
    "g.connect('S', 'C')\n",
    "g.connect('S', 'D')\n",
    "g.connect('S', 'E')\n",
    "\n",
    "g.count({'A', 'C', 'D', 'E', 'B'}, {'S'})"
   ]
  },
  {
   "cell_type": "code",
   "execution_count": 77,
   "metadata": {},
   "outputs": [
    {
     "name": "stdout",
     "output_type": "stream",
     "text": [
      "{'B', 'S', 'C'} {'E', 'A', 'D'}\n"
     ]
    },
    {
     "data": {
      "text/plain": [
       "4"
      ]
     },
     "execution_count": 77,
     "metadata": {},
     "output_type": "execute_result"
    }
   ],
   "source": [
    "s0, s1 = g.random_partition()\n",
    "print(s0, s1)\n",
    "g.count(s0, s1)"
   ]
  },
  {
   "cell_type": "code",
   "execution_count": 94,
   "metadata": {},
   "outputs": [],
   "source": [
    "num_m_vals = 100\n",
    "n = 100\n",
    "p = 0.4\n",
    "samples = 1000\n",
    "\n",
    "iters = dict()\n",
    "\n",
    "for _ in range(num_m_vals):\n",
    "    g = Graph.gnp(n, p)\n",
    "    while not g.is_connected() or g.num_edges() in iters:\n",
    "        g = Graph.gnp(n, p)\n",
    "    m = g.num_edges()\n",
    "    iters[m] = [0, 0, (m/2) + 1]\n",
    "    for _ in range(samples):\n",
    "        s0, s1 = g.random_partition()\n",
    "        cut_val = g.count(s0, s1)\n",
    "        sample_iters = 1\n",
    "        while cut_val < m/2:\n",
    "            s0, s1 = g.random_partition()\n",
    "            cut_val = g.count(s0, s1)\n",
    "            sample_iters += 1\n",
    "        iters[m][0] += sample_iters\n",
    "        iters[m][1] += 1"
   ]
  },
  {
   "cell_type": "code",
   "execution_count": 80,
   "metadata": {},
   "outputs": [],
   "source": [
    "# x = list(iters.keys())\n",
    "# empirical_iters = [iters[m][0] / iters[m][1] for m in x]\n",
    "# expected_iters = [iters[m][2] for m in x]"
   ]
  },
  {
   "cell_type": "code",
   "execution_count": 97,
   "metadata": {},
   "outputs": [],
   "source": [
    "x = sorted(list(iters.keys()))\n",
    "empirical_iters = [iters[m][0] / iters[m][1] for m in x]"
   ]
  },
  {
   "cell_type": "code",
   "execution_count": 128,
   "metadata": {},
   "outputs": [
    {
     "data": {
      "image/png": "[encoded data removed]",
      "text/plain": [
       "<Figure size 432x288 with 1 Axes>"
      ]
     },
     "metadata": {
      "needs_background": "light"
     },
     "output_type": "display_data"
    }
   ],
   "source": [
    "plt.title(f\"Average number of samples until Las Vegas Approximate Cut produces a large cut on G_\\u007b{n},{p}\\u007d\")\n",
    "plt.xlabel('# edges')\n",
    "plt.ylabel('# samples')\n",
    "plt.bar(x, empirical_iters, label='Empirical')\n",
    "# plt.plot(x, expected_iters, label='Expected')\n",
    "# plt.legend()\n",
    "plt.show()"
   ]
  },
  {
   "cell_type": "markdown",
   "metadata": {},
   "source": [
    "### Derandomized Max Cut"
   ]
  },
  {
   "cell_type": "code",
   "execution_count": 127,
   "metadata": {},
   "outputs": [
    {
     "name": "stdout",
     "output_type": "stream",
     "text": [
      "passed!\n"
     ]
    }
   ],
   "source": [
    "n = 100\n",
    "p = 0.4\n",
    "samples = 1000\n",
    "\n",
    "for _ in range(samples):\n",
    "    g = Graph.gnp(n, p)\n",
    "    while not g.is_connected():\n",
    "        g = Graph.gnp(n, p)\n",
    "    m = g.num_edges()\n",
    "    A, B = g.greedy_max_cut()\n",
    "    assert g.count(A, B) >= m/2, 'failed'\n",
    "print('passed!')"
   ]
  },
  {
   "cell_type": "markdown",
   "metadata": {},
   "source": [
    "### Monte Carlo Approximate Independent Set"
   ]
  },
  {
   "cell_type": "code",
   "execution_count": 142,
   "metadata": {},
   "outputs": [],
   "source": [
    "n = 100\n",
    "p = 0.4\n",
    "samples = 100\n",
    "n_graphs = 100\n",
    "\n",
    "sizes = []\n",
    "expected_sizes = []\n",
    "m_values = []\n",
    "\n",
    "for _ in range(n_graphs):\n",
    "    g = Graph.gnp(n, p)\n",
    "    avg_set_size = 0\n",
    "    while not g.is_connected():\n",
    "        g = Graph.gnp(n, p)\n",
    "    m = g.num_edges()\n",
    "    m_values.append(m)\n",
    "    d = g.avg_degree()\n",
    "    expected = n/(2*d)\n",
    "    for _ in range(samples):\n",
    "        s = g.random_independent_set()\n",
    "        avg_set_size += len(s)\n",
    "    sizes.append(avg_set_size / samples)\n",
    "    expected_sizes.append(expected)"
   ]
  },
  {
   "cell_type": "code",
   "execution_count": 146,
   "metadata": {},
   "outputs": [
    {
     "data": {
      "image/png": "[encoded data removed]",
      "text/plain": [
       "<Figure size 432x288 with 1 Axes>"
      ]
     },
     "metadata": {
      "needs_background": "light"
     },
     "output_type": "display_data"
    }
   ],
   "source": [
    "plt.title(f\"Average Size of Random Independent Set on G_\\u007b{n},{p}\\u007d\")\n",
    "plt.xlabel('# edges')\n",
    "plt.ylabel('size of independent sset')\n",
    "plt.plot(m_values, sizes, label='Empirical')\n",
    "plt.plot(m_values, expected_sizes, label='Lower Bound')\n",
    "plt.legend()\n",
    "plt.show()"
   ]
  },
  {
   "cell_type": "markdown",
   "metadata": {},
   "source": [
    "# The First Approximation Algorithm for `Minimum Balanced Cut`\n",
    "### Implementation of https://arxiv.org/pdf/0809.3232.pdf by Spielman and Teng"
   ]
  },
  {
   "cell_type": "code",
   "execution_count": 1,
   "metadata": {},
   "outputs": [],
   "source": [
    "import numpy as np\n",
    "class STGraph:\n",
    "    \"\"\"\n",
    "    vertices are `int`s\n",
    "    \"\"\"\n",
    "    \n",
    "    def __init__(self, n, name='graph'):\n",
    "        self.name = name\n",
    "        self.n = n\n",
    "        self.V = set(range(n))\n",
    "        self.A = np.array([n * [0] for _ in range(n)])\n",
    "        \n",
    "    def add_edge(self, u, v):\n",
    "        assert u < len(self.A) and v < len(self.A), f'At least one of either vertex {u} or {v} does not exist in {self.name}'\n",
    "        assert not (u != v and self.A[u][v] == 1), f'No multi-edges between distinct vertices in {self.name}'\n",
    "        self.A[u][v] += 1\n",
    "        if u != v:\n",
    "            self.A[v][u] = 1\n",
    "    \n",
    "    def del_edge(self, u, v):\n",
    "        assert u < len(self.A) and v < len(self.A), f'At least one of either vertex {u} or {v} does not exist in {self.name}'\n",
    "        assert self.A[u][v] == 1, f'Edge ({u}, {v}) does not exist in {self.name}'\n",
    "        self.A[u][v] -= 1\n",
    "        if u != v:\n",
    "            self.A[v][u] = 0\n",
    "            \n",
    "    def degree(self, u):\n",
    "        return np.sum(self.A[u]) # + self.A[u][u]\n",
    "            \n",
    "    def conductance(self, s=None, induced=None):\n",
    "        if induced is None:\n",
    "            induced = self.V\n",
    "        elif len(induced) == 1 and s is None:\n",
    "            return 1\n",
    "        if s is not None:\n",
    "            if self.mu(s) == 0:\n",
    "                print(s)\n",
    "            return self.cut_edges(s, induced) / min(self.mu(s), self.mu(induced - s))\n",
    "        elif s == set():\n",
    "            return 1\n",
    "        else:\n",
    "            conductances = []\n",
    "            for b in range(1, 2 ** (self.n - 1)):\n",
    "                s = set()\n",
    "                for u in range(self.n):\n",
    "                    if (b >> u) & 1 == 1:\n",
    "                        s.add(u)\n",
    "                conductances.append(self.conductance(s, induced=induced))\n",
    "            return min(conductances)\n",
    "            \n",
    "    def cut_edges(self, s, induced=None):\n",
    "        if not induced:\n",
    "            induced = self.V\n",
    "        return np.sum((self.A - (np.diag(np.diagonal(self.A))))[sorted(list(s))][:, sorted(list(induced - s))])\n",
    "        \"\"\"\n",
    "        count = 0\n",
    "        for u in s:\n",
    "            for v in range(self.n):\n",
    "                if self.A[u][v] == 1 and v not in s:\n",
    "                    count += 1\n",
    "        return count\n",
    "        \"\"\"\n",
    "    \n",
    "    def mu(self, s):\n",
    "        return sum([self.degree(u) for u in s])\n",
    "    \n",
    "    def balance(self, s):\n",
    "        return min(self.mu(s), self.mu(self.V - s)) / self.mu(self.V)\n",
    "    \n",
    "    def verify_sparsest(self, s):\n",
    "        return self.conductance(s) == self.conductance() and self.mu(s) / self.mu(self.V) <= 1/2\n",
    "    \n",
    "    def subgraph(self, s):\n",
    "        c = STGraph.copy(self)\n",
    "        subset_indices = sorted(list(s))\n",
    "        c.A = c.A[subset_indices][:, subset_indices]\n",
    "        c.n = len(subset_indices)\n",
    "        c.V = set(range(c.n))\n",
    "        return c\n",
    "        \n",
    "    @classmethod\n",
    "    def copy(cls, G):\n",
    "        copy = cls(G.n, f'copy of {G.name}')\n",
    "        copy.A = np.copy(G.A)\n",
    "        copy.V = set(G.V)\n",
    "        return copy\n",
    "    \n",
    "    def restored_subgraph(self, s):\n",
    "        subgraph = self.subgraph(s)\n",
    "        original_vertices = sorted(list(s))\n",
    "        for v in range(subgraph.n):\n",
    "            subgraph.A[v][v] += self.degree(original_vertices[v]) - subgraph.degree(v)\n",
    "        return subgraph\n",
    "    \n",
    "    def del_vertex(self, v):\n",
    "        self.A = np.vstack((self.A[0:v], self.A[v+1:]))\n",
    "        self.A = np.hstack((self.A[:, 0:v], self.A[:, v+1:]))\n",
    "        self.n -= 1\n",
    "        self.V = set(range(self.n))\n",
    "        \n",
    "    def x(self, s):\n",
    "        return np.array([1 if u in s else 0 for u in sorted(list(self.V))])\n",
    "    \n",
    "    def psi(self, s):\n",
    "        return np.array([self.degree(u) / self.mu(s) if u in s else 0 for u in sorted(list(self.V))])\n",
    "    \n",
    "    def M(self):\n",
    "        return np.matmul(self.A, np.linalg.inv())\n",
    "        \n",
    "    def __repr__(self):\n",
    "        return str(self.A)"
   ]
  },
  {
   "cell_type": "code",
   "execution_count": 2,
   "metadata": {
    "scrolled": false
   },
   "outputs": [
    {
     "name": "stdout",
     "output_type": "stream",
     "text": [
      "[[0 1 0 0 0 0]\n",
      " [1 0 1 0 1 0]\n",
      " [0 1 0 1 0 0]\n",
      " [0 0 1 1 1 1]\n",
      " [0 1 0 1 0 1]\n",
      " [0 0 0 1 1 0]]\n",
      "[[0 1 0 0 0 0]\n",
      " [1 0 1 0 1 0]\n",
      " [0 1 0 1 0 0]\n",
      " [0 0 1 1 1 1]\n",
      " [0 1 0 1 0 1]\n",
      " [0 0 0 1 1 0]]\n"
     ]
    }
   ],
   "source": [
    "g = STGraph(7) # src: https://en.wikipedia.org/wiki/Degree_(graph_theory)\n",
    "g.add_edge(1, 2)\n",
    "g.add_edge(2, 3)\n",
    "g.add_edge(3, 4)\n",
    "g.add_edge(4, 4)\n",
    "g.add_edge(4, 5)\n",
    "g.add_edge(4, 6)\n",
    "g.add_edge(5, 6)\n",
    "g.add_edge(2, 5)\n",
    "g2 = STGraph.copy(g)\n",
    "g.A = g.A[1:, 1:]\n",
    "g.n -= 1\n",
    "g.V = set(range(g.n))\n",
    "g2.del_vertex(0)\n",
    "print(g.A)\n",
    "print(g2.A)\n",
    "# g.mu(g.V)\n",
    "assert g.conductance({0,2,4}) == g.conductance({1,3,5})\n",
    "assert g.conductance() <= g.conductance({1,3,5})"
   ]
  },
  {
   "cell_type": "code",
   "execution_count": 3,
   "metadata": {},
   "outputs": [
    {
     "data": {
      "text/plain": [
       "([[0 1 0]\n",
       "  [1 0 1]\n",
       "  [0 1 0]],\n",
       " [[0 1 0]\n",
       "  [1 1 1]\n",
       "  [0 1 1]],\n",
       " [[0 1 0 0 0 0]\n",
       "  [1 0 1 0 1 0]\n",
       "  [0 1 0 1 0 0]\n",
       "  [0 0 1 1 1 1]\n",
       "  [0 1 0 1 0 1]\n",
       "  [0 0 0 1 1 0]])"
      ]
     },
     "execution_count": 3,
     "metadata": {},
     "output_type": "execute_result"
    }
   ],
   "source": [
    "g.subgraph({0,1,2}), g.restored_subgraph({0,1,2}), g"
   ]
  },
  {
   "cell_type": "code",
   "execution_count": null,
   "metadata": {},
   "outputs": [],
   "source": []
  }
 ],
 "metadata": {
  "kernelspec": {
   "display_name": "Python 3",
   "language": "python",
   "name": "python3"
  },
  "language_info": {
   "codemirror_mode": {
    "name": "ipython",
    "version": 3
   },
   "file_extension": ".py",
   "mimetype": "text/x-python",
   "name": "python",
   "nbconvert_exporter": "python",
   "pygments_lexer": "ipython3",
   "version": "3.8.10"
  }
 },
 "nbformat": 4,
 "nbformat_minor": 4
}
